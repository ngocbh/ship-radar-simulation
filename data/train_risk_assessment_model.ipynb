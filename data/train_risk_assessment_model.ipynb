{
  "nbformat": 4,
  "nbformat_minor": 0,
  "metadata": {
    "colab": {
      "name": "train_risk_assessment_model.ipynb",
      "provenance": [],
      "collapsed_sections": []
    },
    "kernelspec": {
      "name": "python3",
      "display_name": "Python 3"
    }
  },
  "cells": [
    {
      "cell_type": "code",
      "metadata": {
        "colab": {
          "base_uri": "https://localhost:8080/"
        },
        "id": "iThrGtaBeRK-",
        "outputId": "a0408493-57c3-45b7-b525-0a44c3f66e0f"
      },
      "source": [
        "!pip install requests\n",
        "!pip install pyquery\n",
        "!pip install pandas\n",
        "!pip install sklearn\n",
        "!pip install pycountry\n",
        "!pip install scipy"
      ],
      "execution_count": null,
      "outputs": [
        {
          "output_type": "stream",
          "text": [
            "Requirement already satisfied: requests in /usr/local/lib/python3.6/dist-packages (2.23.0)\n",
            "Requirement already satisfied: chardet<4,>=3.0.2 in /usr/local/lib/python3.6/dist-packages (from requests) (3.0.4)\n",
            "Requirement already satisfied: certifi>=2017.4.17 in /usr/local/lib/python3.6/dist-packages (from requests) (2020.12.5)\n",
            "Requirement already satisfied: urllib3!=1.25.0,!=1.25.1,<1.26,>=1.21.1 in /usr/local/lib/python3.6/dist-packages (from requests) (1.24.3)\n",
            "Requirement already satisfied: idna<3,>=2.5 in /usr/local/lib/python3.6/dist-packages (from requests) (2.10)\n",
            "Requirement already satisfied: pyquery in /usr/local/lib/python3.6/dist-packages (1.4.3)\n",
            "Requirement already satisfied: lxml>=2.1 in /usr/local/lib/python3.6/dist-packages (from pyquery) (4.2.6)\n",
            "Requirement already satisfied: cssselect>0.7.9 in /usr/local/lib/python3.6/dist-packages (from pyquery) (1.1.0)\n",
            "Requirement already satisfied: pandas in /usr/local/lib/python3.6/dist-packages (1.1.5)\n",
            "Requirement already satisfied: numpy>=1.15.4 in /usr/local/lib/python3.6/dist-packages (from pandas) (1.19.5)\n",
            "Requirement already satisfied: python-dateutil>=2.7.3 in /usr/local/lib/python3.6/dist-packages (from pandas) (2.8.1)\n",
            "Requirement already satisfied: pytz>=2017.2 in /usr/local/lib/python3.6/dist-packages (from pandas) (2018.9)\n",
            "Requirement already satisfied: six>=1.5 in /usr/local/lib/python3.6/dist-packages (from python-dateutil>=2.7.3->pandas) (1.15.0)\n",
            "Requirement already satisfied: sklearn in /usr/local/lib/python3.6/dist-packages (0.0)\n",
            "Requirement already satisfied: scikit-learn in /usr/local/lib/python3.6/dist-packages (from sklearn) (0.22.2.post1)\n",
            "Requirement already satisfied: joblib>=0.11 in /usr/local/lib/python3.6/dist-packages (from scikit-learn->sklearn) (1.0.0)\n",
            "Requirement already satisfied: scipy>=0.17.0 in /usr/local/lib/python3.6/dist-packages (from scikit-learn->sklearn) (1.4.1)\n",
            "Requirement already satisfied: numpy>=1.11.0 in /usr/local/lib/python3.6/dist-packages (from scikit-learn->sklearn) (1.19.5)\n",
            "Requirement already satisfied: pycountry in /usr/local/lib/python3.6/dist-packages (20.7.3)\n",
            "Requirement already satisfied: scipy in /usr/local/lib/python3.6/dist-packages (1.4.1)\n",
            "Requirement already satisfied: numpy>=1.13.3 in /usr/local/lib/python3.6/dist-packages (from scipy) (1.19.5)\n"
          ],
          "name": "stdout"
        }
      ]
    },
    {
      "cell_type": "code",
      "metadata": {
        "colab": {
          "base_uri": "https://localhost:8080/"
        },
        "id": "QolOUMHreVFl",
        "outputId": "6c6ca1a1-85d5-47b6-f33a-be3ebfabfc47"
      },
      "source": [
        "from google.colab import drive\n",
        "drive.mount('/content/drive')"
      ],
      "execution_count": null,
      "outputs": [
        {
          "output_type": "stream",
          "text": [
            "Drive already mounted at /content/drive; to attempt to forcibly remount, call drive.mount(\"/content/drive\", force_remount=True).\n"
          ],
          "name": "stdout"
        }
      ]
    },
    {
      "cell_type": "code",
      "metadata": {
        "id": "gMyRywefeWdI"
      },
      "source": [
        "import pandas as pd"
      ],
      "execution_count": null,
      "outputs": []
    },
    {
      "cell_type": "code",
      "metadata": {
        "colab": {
          "base_uri": "https://localhost:8080/",
          "height": 374
        },
        "id": "sPgWrQ7zHNjE",
        "outputId": "11597736-b38f-405b-c048-719cdeb8b30f"
      },
      "source": [
        "datapath = '/content/drive/MyDrive/Shared/clean_pirate_attacks_dataset.csv'\n",
        "data = pd.read_csv(datapath)\n",
        "data.head()"
      ],
      "execution_count": null,
      "outputs": [
        {
          "output_type": "execute_result",
          "data": {
            "text/html": [
              "<div>\n",
              "<style scoped>\n",
              "    .dataframe tbody tr th:only-of-type {\n",
              "        vertical-align: middle;\n",
              "    }\n",
              "\n",
              "    .dataframe tbody tr th {\n",
              "        vertical-align: top;\n",
              "    }\n",
              "\n",
              "    .dataframe thead th {\n",
              "        text-align: right;\n",
              "    }\n",
              "</style>\n",
              "<table border=\"1\" class=\"dataframe\">\n",
              "  <thead>\n",
              "    <tr style=\"text-align: right;\">\n",
              "      <th></th>\n",
              "      <th>Ship name</th>\n",
              "      <th>IMO Number</th>\n",
              "      <th>Flag</th>\n",
              "      <th>Gross tonnage</th>\n",
              "      <th>Type of ship</th>\n",
              "      <th>Date</th>\n",
              "      <th>Time</th>\n",
              "      <th>Area</th>\n",
              "      <th>Latitude</th>\n",
              "      <th>Longitude</th>\n",
              "      <th>Place</th>\n",
              "      <th>Label</th>\n",
              "    </tr>\n",
              "  </thead>\n",
              "  <tbody>\n",
              "    <tr>\n",
              "      <th>0</th>\n",
              "      <td>Vantage Wave</td>\n",
              "      <td>9506514.0</td>\n",
              "      <td>Liberia</td>\n",
              "      <td>22064.0</td>\n",
              "      <td>General cargo ship</td>\n",
              "      <td>2021-01-28</td>\n",
              "      <td>18:20</td>\n",
              "      <td>Malacca Strait</td>\n",
              "      <td>1° 16.87' N</td>\n",
              "      <td>104° 18.70' E</td>\n",
              "      <td>In international waters</td>\n",
              "      <td>1</td>\n",
              "    </tr>\n",
              "    <tr>\n",
              "      <th>1</th>\n",
              "      <td>Ark Royal</td>\n",
              "      <td>9219446.0</td>\n",
              "      <td>Barbados</td>\n",
              "      <td>27011.0</td>\n",
              "      <td>Bulk carrier</td>\n",
              "      <td>2021-01-25</td>\n",
              "      <td>03:25</td>\n",
              "      <td>South China Sea</td>\n",
              "      <td>1° 16.58' N</td>\n",
              "      <td>104° 15.70' E</td>\n",
              "      <td>In international waters</td>\n",
              "      <td>1</td>\n",
              "    </tr>\n",
              "    <tr>\n",
              "      <th>2</th>\n",
              "      <td>Maersk Cardiff</td>\n",
              "      <td>9529255.0</td>\n",
              "      <td>Singapore</td>\n",
              "      <td>50869.0</td>\n",
              "      <td>Container ship</td>\n",
              "      <td>2021-01-13</td>\n",
              "      <td>19:20</td>\n",
              "      <td>West Africa</td>\n",
              "      <td>2° 23.58' N</td>\n",
              "      <td>5° 31.00' E</td>\n",
              "      <td>In international waters</td>\n",
              "      <td>1</td>\n",
              "    </tr>\n",
              "    <tr>\n",
              "      <th>3</th>\n",
              "      <td>Myrto</td>\n",
              "      <td>9518086.0</td>\n",
              "      <td>Marshall Islands</td>\n",
              "      <td>43012.0</td>\n",
              "      <td>Bulk carrier</td>\n",
              "      <td>2021-01-14</td>\n",
              "      <td>08:49</td>\n",
              "      <td>Arabian Sea</td>\n",
              "      <td>12° 06.10' N</td>\n",
              "      <td>44° 26.50' E</td>\n",
              "      <td>In international waters</td>\n",
              "      <td>1</td>\n",
              "    </tr>\n",
              "    <tr>\n",
              "      <th>4</th>\n",
              "      <td>SBI Orion</td>\n",
              "      <td>9705330.0</td>\n",
              "      <td>Marshall Islands</td>\n",
              "      <td>36421.0</td>\n",
              "      <td>Bulk carrier</td>\n",
              "      <td>2021-01-03</td>\n",
              "      <td>03:30</td>\n",
              "      <td>South China Sea</td>\n",
              "      <td>0° 15.80' S</td>\n",
              "      <td>117° 34.30' E</td>\n",
              "      <td>In port area</td>\n",
              "      <td>1</td>\n",
              "    </tr>\n",
              "  </tbody>\n",
              "</table>\n",
              "</div>"
            ],
            "text/plain": [
              "        Ship name  IMO Number  ...                    Place  Label\n",
              "0    Vantage Wave   9506514.0  ...  In international waters      1\n",
              "1       Ark Royal   9219446.0  ...  In international waters      1\n",
              "2  Maersk Cardiff   9529255.0  ...  In international waters      1\n",
              "3           Myrto   9518086.0  ...  In international waters      1\n",
              "4       SBI Orion   9705330.0  ...             In port area      1\n",
              "\n",
              "[5 rows x 12 columns]"
            ]
          },
          "metadata": {
            "tags": []
          },
          "execution_count": 308
        }
      ]
    },
    {
      "cell_type": "code",
      "metadata": {
        "colab": {
          "base_uri": "https://localhost:8080/"
        },
        "id": "11X5gXrLHnvJ",
        "outputId": "0850ed11-001a-4197-cc61-4cff7b22b05b"
      },
      "source": [
        "data.shape"
      ],
      "execution_count": null,
      "outputs": [
        {
          "output_type": "execute_result",
          "data": {
            "text/plain": [
              "(10489, 12)"
            ]
          },
          "metadata": {
            "tags": []
          },
          "execution_count": 309
        }
      ]
    },
    {
      "cell_type": "code",
      "metadata": {
        "id": "qhWtuBxuHvRb"
      },
      "source": [
        "data = data.drop(['IMO Number'], axis=1)"
      ],
      "execution_count": null,
      "outputs": []
    },
    {
      "cell_type": "code",
      "metadata": {
        "colab": {
          "base_uri": "https://localhost:8080/"
        },
        "id": "rWrBuw-nIedG",
        "outputId": "737c2c83-5c43-4aed-aec1-e2a41dbf53c6"
      },
      "source": [
        "data.shape"
      ],
      "execution_count": null,
      "outputs": [
        {
          "output_type": "execute_result",
          "data": {
            "text/plain": [
              "(10489, 11)"
            ]
          },
          "metadata": {
            "tags": []
          },
          "execution_count": 311
        }
      ]
    },
    {
      "cell_type": "code",
      "metadata": {
        "id": "1gHLbNPnJVFX"
      },
      "source": [
        "data = data.dropna(axis=0)"
      ],
      "execution_count": null,
      "outputs": []
    },
    {
      "cell_type": "code",
      "metadata": {
        "colab": {
          "base_uri": "https://localhost:8080/"
        },
        "id": "axjqaVKGK7Oj",
        "outputId": "b2cbbacd-8cda-46ae-d6cd-37910ad1b51b"
      },
      "source": [
        "data['Label'].value_counts()"
      ],
      "execution_count": null,
      "outputs": [
        {
          "output_type": "execute_result",
          "data": {
            "text/plain": [
              "0    7004\n",
              "1    3485\n",
              "Name: Label, dtype: int64"
            ]
          },
          "metadata": {
            "tags": []
          },
          "execution_count": 313
        }
      ]
    },
    {
      "cell_type": "code",
      "metadata": {
        "colab": {
          "base_uri": "https://localhost:8080/"
        },
        "id": "LjyY818gPXJ9",
        "outputId": "caae3200-61f6-4ae0-fb6e-868e79f79d7e"
      },
      "source": [
        "data['Flag'].value_counts()"
      ],
      "execution_count": null,
      "outputs": [
        {
          "output_type": "execute_result",
          "data": {
            "text/plain": [
              "Panama                              1770\n",
              "Liberia                             1212\n",
              "Singapore                           1137\n",
              "Marshall Islands                    1109\n",
              "Hong Kong, China                     581\n",
              "                                    ... \n",
              "Lebanon                                1\n",
              "St. Pierre and Miquelon (France)       1\n",
              "Mauritius                              1\n",
              "Cameroon                               1\n",
              "Sao Tome and Principe                  1\n",
              "Name: Flag, Length: 144, dtype: int64"
            ]
          },
          "metadata": {
            "tags": []
          },
          "execution_count": 314
        }
      ]
    },
    {
      "cell_type": "code",
      "metadata": {
        "colab": {
          "base_uri": "https://localhost:8080/"
        },
        "id": "ID5TWRaSPdwL",
        "outputId": "7d69345d-514d-412a-b652-0dfc01dc7478"
      },
      "source": [
        "data['Type of ship'].value_counts()"
      ],
      "execution_count": null,
      "outputs": [
        {
          "output_type": "execute_result",
          "data": {
            "text/plain": [
              "Bulk carrier                      2001\n",
              "Tanker                            1234\n",
              "Container ship                    1158\n",
              "Chemical tanker                    823\n",
              "General cargo ship                 698\n",
              "                                  ... \n",
              "Salvage search and rescue ship       1\n",
              "Tug/Supply Ship (O.R.S.V.)           1\n",
              "Dry Cargo ship                       1\n",
              "Diving Support Vessel                1\n",
              "Passenger  ship                      1\n",
              "Name: Type of ship, Length: 195, dtype: int64"
            ]
          },
          "metadata": {
            "tags": []
          },
          "execution_count": 315
        }
      ]
    },
    {
      "cell_type": "code",
      "metadata": {
        "colab": {
          "base_uri": "https://localhost:8080/"
        },
        "id": "ce6PQHokPkKD",
        "outputId": "755bf0ee-9615-4555-fd05-b05b74217734"
      },
      "source": [
        "data['Area'].value_counts()"
      ],
      "execution_count": null,
      "outputs": [
        {
          "output_type": "execute_result",
          "data": {
            "text/plain": [
              "South China Sea         2298\n",
              "East Africa             1832\n",
              "West Africa             1413\n",
              "Indian Ocean            1234\n",
              "North Atlantic Ocean    1092\n",
              "Malacca Strait           920\n",
              "Arabian Sea              468\n",
              "Mediterranean Sea        330\n",
              "South America (A)        252\n",
              "South America (P)        234\n",
              "South America (C)        220\n",
              "Yellow Sea               109\n",
              "Far East                  45\n",
              "Persian Gulf              24\n",
              "North Pacific Ocean       14\n",
              "China Sea                  3\n",
              "North Sea                  1\n",
              "Name: Area, dtype: int64"
            ]
          },
          "metadata": {
            "tags": []
          },
          "execution_count": 316
        }
      ]
    },
    {
      "cell_type": "code",
      "metadata": {
        "colab": {
          "base_uri": "https://localhost:8080/"
        },
        "id": "Ubes41zWc4Dn",
        "outputId": "0d2b4e7b-394d-4aec-e8e8-ff82080ff700"
      },
      "source": [
        "data['Gross tonnage'].shape"
      ],
      "execution_count": null,
      "outputs": [
        {
          "output_type": "execute_result",
          "data": {
            "text/plain": [
              "(10489,)"
            ]
          },
          "metadata": {
            "tags": []
          },
          "execution_count": 317
        }
      ]
    },
    {
      "cell_type": "code",
      "metadata": {
        "colab": {
          "base_uri": "https://localhost:8080/"
        },
        "id": "eHk_gX4biVNG",
        "outputId": "2d909831-7371-4dbb-805f-cca794ecdcb7"
      },
      "source": [
        "data['Time'].value_counts()"
      ],
      "execution_count": null,
      "outputs": [
        {
          "output_type": "execute_result",
          "data": {
            "text/plain": [
              "00:00    358\n",
              "03:00    170\n",
              "01:00    166\n",
              "02:00    135\n",
              "03:30    134\n",
              "        ... \n",
              "17:33      1\n",
              "06:51      1\n",
              "00:32      1\n",
              "00:54      1\n",
              "09:27      1\n",
              "Name: Time, Length: 1154, dtype: int64"
            ]
          },
          "metadata": {
            "tags": []
          },
          "execution_count": 318
        }
      ]
    },
    {
      "cell_type": "code",
      "metadata": {
        "id": "x73D17JJLQPZ"
      },
      "source": [
        "from sklearn.preprocessing import OneHotEncoder\n",
        "import pickle\n",
        "import numpy as np\n",
        "import time \n",
        "import datetime \n",
        "\n",
        "data['ShortTime'] = data['Time'].apply(lambda x: int(x.split(':')[0])//2)\n",
        "cat_cols = ['Flag', 'Type of ship', 'Area', 'Place', 'ShortTime'] \n",
        "\n",
        "encoders = OneHotEncoder()\n",
        "encoders.fit(data[cat_cols])\n",
        "\n",
        "with open('/content/drive/MyDrive/Shared/encoders.pickle', 'wb') as f:\n",
        "    pickle.dump(encoders, f)"
      ],
      "execution_count": null,
      "outputs": []
    },
    {
      "cell_type": "code",
      "metadata": {
        "colab": {
          "base_uri": "https://localhost:8080/",
          "height": 391
        },
        "id": "_j432wX6b6TL",
        "outputId": "769787bd-79e2-49a6-e710-d24fd62059b3"
      },
      "source": [
        "def get_timestamp(x):\n",
        "    try:\n",
        "        element = datetime.datetime.strptime(x,\"%Y-%m-%d %H:%M\")\n",
        "        a = time.mktime(element.timetuple())\n",
        "        element = datetime.datetime.strptime(\"1990-01-01\",\"%Y-%m-%d\") \n",
        "        b = time.mktime(element.timetuple())\n",
        "        return (a - b)/ 1e9\n",
        "    except ValueError as e:\n",
        "        print(x)\n",
        "        raise e\n",
        "\n",
        "data['Timestamp'] = data['Date'] + ' ' + data['Time']\n",
        "data['Timestamp'] = data['Timestamp'].apply(get_timestamp)\n",
        "data.head()"
      ],
      "execution_count": null,
      "outputs": [
        {
          "output_type": "execute_result",
          "data": {
            "text/html": [
              "<div>\n",
              "<style scoped>\n",
              "    .dataframe tbody tr th:only-of-type {\n",
              "        vertical-align: middle;\n",
              "    }\n",
              "\n",
              "    .dataframe tbody tr th {\n",
              "        vertical-align: top;\n",
              "    }\n",
              "\n",
              "    .dataframe thead th {\n",
              "        text-align: right;\n",
              "    }\n",
              "</style>\n",
              "<table border=\"1\" class=\"dataframe\">\n",
              "  <thead>\n",
              "    <tr style=\"text-align: right;\">\n",
              "      <th></th>\n",
              "      <th>Ship name</th>\n",
              "      <th>Flag</th>\n",
              "      <th>Gross tonnage</th>\n",
              "      <th>Type of ship</th>\n",
              "      <th>Date</th>\n",
              "      <th>Time</th>\n",
              "      <th>Area</th>\n",
              "      <th>Latitude</th>\n",
              "      <th>Longitude</th>\n",
              "      <th>Place</th>\n",
              "      <th>Label</th>\n",
              "      <th>ShortTime</th>\n",
              "      <th>Timestamp</th>\n",
              "    </tr>\n",
              "  </thead>\n",
              "  <tbody>\n",
              "    <tr>\n",
              "      <th>0</th>\n",
              "      <td>Vantage Wave</td>\n",
              "      <td>Liberia</td>\n",
              "      <td>22064.0</td>\n",
              "      <td>General cargo ship</td>\n",
              "      <td>2021-01-28</td>\n",
              "      <td>18:20</td>\n",
              "      <td>Malacca Strait</td>\n",
              "      <td>1° 16.87' N</td>\n",
              "      <td>104° 18.70' E</td>\n",
              "      <td>In international waters</td>\n",
              "      <td>1</td>\n",
              "      <td>9</td>\n",
              "      <td>0.980706</td>\n",
              "    </tr>\n",
              "    <tr>\n",
              "      <th>1</th>\n",
              "      <td>Ark Royal</td>\n",
              "      <td>Barbados</td>\n",
              "      <td>27011.0</td>\n",
              "      <td>Bulk carrier</td>\n",
              "      <td>2021-01-25</td>\n",
              "      <td>03:25</td>\n",
              "      <td>South China Sea</td>\n",
              "      <td>1° 16.58' N</td>\n",
              "      <td>104° 15.70' E</td>\n",
              "      <td>In international waters</td>\n",
              "      <td>1</td>\n",
              "      <td>1</td>\n",
              "      <td>0.980393</td>\n",
              "    </tr>\n",
              "    <tr>\n",
              "      <th>2</th>\n",
              "      <td>Maersk Cardiff</td>\n",
              "      <td>Singapore</td>\n",
              "      <td>50869.0</td>\n",
              "      <td>Container ship</td>\n",
              "      <td>2021-01-13</td>\n",
              "      <td>19:20</td>\n",
              "      <td>West Africa</td>\n",
              "      <td>2° 23.58' N</td>\n",
              "      <td>5° 31.00' E</td>\n",
              "      <td>In international waters</td>\n",
              "      <td>1</td>\n",
              "      <td>9</td>\n",
              "      <td>0.979414</td>\n",
              "    </tr>\n",
              "    <tr>\n",
              "      <th>3</th>\n",
              "      <td>Myrto</td>\n",
              "      <td>Marshall Islands</td>\n",
              "      <td>43012.0</td>\n",
              "      <td>Bulk carrier</td>\n",
              "      <td>2021-01-14</td>\n",
              "      <td>08:49</td>\n",
              "      <td>Arabian Sea</td>\n",
              "      <td>12° 06.10' N</td>\n",
              "      <td>44° 26.50' E</td>\n",
              "      <td>In international waters</td>\n",
              "      <td>1</td>\n",
              "      <td>4</td>\n",
              "      <td>0.979462</td>\n",
              "    </tr>\n",
              "    <tr>\n",
              "      <th>4</th>\n",
              "      <td>SBI Orion</td>\n",
              "      <td>Marshall Islands</td>\n",
              "      <td>36421.0</td>\n",
              "      <td>Bulk carrier</td>\n",
              "      <td>2021-01-03</td>\n",
              "      <td>03:30</td>\n",
              "      <td>South China Sea</td>\n",
              "      <td>0° 15.80' S</td>\n",
              "      <td>117° 34.30' E</td>\n",
              "      <td>In port area</td>\n",
              "      <td>1</td>\n",
              "      <td>1</td>\n",
              "      <td>0.978493</td>\n",
              "    </tr>\n",
              "  </tbody>\n",
              "</table>\n",
              "</div>"
            ],
            "text/plain": [
              "        Ship name              Flag  Gross tonnage  ... Label ShortTime Timestamp\n",
              "0    Vantage Wave           Liberia        22064.0  ...     1         9  0.980706\n",
              "1       Ark Royal          Barbados        27011.0  ...     1         1  0.980393\n",
              "2  Maersk Cardiff         Singapore        50869.0  ...     1         9  0.979414\n",
              "3           Myrto  Marshall Islands        43012.0  ...     1         4  0.979462\n",
              "4       SBI Orion  Marshall Islands        36421.0  ...     1         1  0.978493\n",
              "\n",
              "[5 rows x 13 columns]"
            ]
          },
          "metadata": {
            "tags": []
          },
          "execution_count": 320
        }
      ]
    },
    {
      "cell_type": "code",
      "metadata": {
        "colab": {
          "base_uri": "https://localhost:8080/"
        },
        "id": "gwizPXpGM9bh",
        "outputId": "593470b9-18ca-4514-ce4e-15dab31f5bf4"
      },
      "source": [
        "def extract_features(encoders, data):\n",
        "    cat_cols = ['Flag', 'Type of ship', 'Area', 'Place', 'ShortTime']\n",
        "    Xs = []\n",
        "    X = encoders.transform(data[cat_cols]).toarray()\n",
        "    Xs.append(X)\n",
        "\n",
        "    X_gross = data['Gross tonnage'] / 10000\n",
        "    X_gross = X_gross.to_numpy().reshape(X_gross.shape[0], 1)\n",
        "    Xs.append(X_gross)\n",
        "    Xs.append(data['Timestamp'].to_numpy().reshape(data['Timestamp'].shape[0], 1))\n",
        "    return np.hstack(Xs)\n",
        "\n",
        "X = extract_features(encoders, data)\n",
        "print(X.shape)\n",
        "print(X)"
      ],
      "execution_count": null,
      "outputs": [
        {
          "output_type": "stream",
          "text": [
            "(10489, 373)\n",
            "[[0.         0.         0.         ... 0.         2.2064     0.980706  ]\n",
            " [0.         0.         0.         ... 0.         2.7011     0.9803931 ]\n",
            " [0.         0.         0.         ... 0.         5.0869     0.9794136 ]\n",
            " ...\n",
            " [0.         0.         0.         ... 0.         1.3881     0.41395008]\n",
            " [0.         0.         0.         ... 0.         1.0941     0.37391376]\n",
            " [0.         0.         0.         ... 0.         2.455      0.37283808]]\n"
          ],
          "name": "stdout"
        }
      ]
    },
    {
      "cell_type": "code",
      "metadata": {
        "id": "nFzH7vhWjbby"
      },
      "source": [
        "y = data['Label'].to_numpy()"
      ],
      "execution_count": null,
      "outputs": []
    },
    {
      "cell_type": "code",
      "metadata": {
        "id": "Ti0R7jnabzCk"
      },
      "source": [
        "from sklearn.model_selection import GridSearchCV, StratifiedKFold, \\\n",
        "    cross_val_score, train_test_split\n",
        "\n",
        "X_train, X_test, y_train, y_test =\\\n",
        "    train_test_split(X, y, train_size = 0.8, random_state = 12)"
      ],
      "execution_count": null,
      "outputs": []
    },
    {
      "cell_type": "code",
      "metadata": {
        "colab": {
          "base_uri": "https://localhost:8080/"
        },
        "id": "o4pvJQCcjoMj",
        "outputId": "b47f9897-c05b-4d81-9bd5-69d0df442cc6"
      },
      "source": [
        "X_train.shape, y_train.shape, X_test.shape, y_test.shape"
      ],
      "execution_count": null,
      "outputs": [
        {
          "output_type": "execute_result",
          "data": {
            "text/plain": [
              "((8391, 373), (8391,), (2098, 373), (2098,))"
            ]
          },
          "metadata": {
            "tags": []
          },
          "execution_count": 324
        }
      ]
    },
    {
      "cell_type": "code",
      "metadata": {
        "id": "cWhoQar6jrMa"
      },
      "source": [
        "from sklearn.linear_model import LogisticRegression, LinearRegression\n",
        "\n",
        "lr = LogisticRegression(penalty='l2', random_state=12, \n",
        "                        solver='lbfgs',max_iter=100000)\n",
        "lr.fit(X_train, y_train)\n",
        "with open('/content/drive/MyDrive/Shared/risk_assessment_model.pickle', 'wb') as f:\n",
        "    pickle.dump(lr, f)"
      ],
      "execution_count": null,
      "outputs": []
    },
    {
      "cell_type": "code",
      "metadata": {
        "colab": {
          "base_uri": "https://localhost:8080/"
        },
        "id": "hklcqSTvj1JH",
        "outputId": "3335226d-725b-4eff-c7f2-34d80ec785e6"
      },
      "source": [
        "y_pred = lr.predict(X_test)\n",
        "print(y_pred)"
      ],
      "execution_count": null,
      "outputs": [
        {
          "output_type": "stream",
          "text": [
            "[0 0 0 ... 0 0 0]\n"
          ],
          "name": "stdout"
        }
      ]
    },
    {
      "cell_type": "code",
      "metadata": {
        "colab": {
          "base_uri": "https://localhost:8080/"
        },
        "id": "B1M2GabHj22J",
        "outputId": "86308ecd-6072-4c5e-d8fa-908b4092720d"
      },
      "source": [
        "from sklearn.metrics import accuracy_score, \\\n",
        "    classification_report, confusion_matrix\n",
        "    \n",
        "accuracy_score(y_test, y_pred)"
      ],
      "execution_count": null,
      "outputs": [
        {
          "output_type": "execute_result",
          "data": {
            "text/plain": [
              "0.6487130600571973"
            ]
          },
          "metadata": {
            "tags": []
          },
          "execution_count": 327
        }
      ]
    },
    {
      "cell_type": "code",
      "metadata": {
        "colab": {
          "base_uri": "https://localhost:8080/"
        },
        "id": "WHFao1fAj3tJ",
        "outputId": "7c2db0d7-f0cf-47ef-cdaa-3fa54579ed22"
      },
      "source": [
        "print(confusion_matrix(y_test, y_pred))"
      ],
      "execution_count": null,
      "outputs": [
        {
          "output_type": "stream",
          "text": [
            "[[1180  220]\n",
            " [ 517  181]]\n"
          ],
          "name": "stdout"
        }
      ]
    },
    {
      "cell_type": "code",
      "metadata": {
        "colab": {
          "base_uri": "https://localhost:8080/"
        },
        "id": "iIgAAoPCkTdB",
        "outputId": "6ac31f45-ffc5-4ccc-ca10-b17f5f438360"
      },
      "source": [
        "print(classification_report(y_test, y_pred))"
      ],
      "execution_count": null,
      "outputs": [
        {
          "output_type": "stream",
          "text": [
            "              precision    recall  f1-score   support\n",
            "\n",
            "           0       0.70      0.84      0.76      1400\n",
            "           1       0.45      0.26      0.33       698\n",
            "\n",
            "    accuracy                           0.65      2098\n",
            "   macro avg       0.57      0.55      0.55      2098\n",
            "weighted avg       0.61      0.65      0.62      2098\n",
            "\n"
          ],
          "name": "stdout"
        }
      ]
    },
    {
      "cell_type": "code",
      "metadata": {
        "colab": {
          "base_uri": "https://localhost:8080/"
        },
        "id": "a9dOF_ctkWDi",
        "outputId": "bd5b3249-b72f-4f62-9ded-1b3b36746900"
      },
      "source": [
        "y_proba = lr.predict_proba(X_test)\n",
        "y_proba[:10]"
      ],
      "execution_count": null,
      "outputs": [
        {
          "output_type": "execute_result",
          "data": {
            "text/plain": [
              "array([[0.61208083, 0.38791917],\n",
              "       [0.58265499, 0.41734501],\n",
              "       [0.97814205, 0.02185795],\n",
              "       [0.67981837, 0.32018163],\n",
              "       [0.98315711, 0.01684289],\n",
              "       [0.95845795, 0.04154205],\n",
              "       [0.50556999, 0.49443001],\n",
              "       [0.74350476, 0.25649524],\n",
              "       [0.97944086, 0.02055914],\n",
              "       [0.59859826, 0.40140174]])"
            ]
          },
          "metadata": {
            "tags": []
          },
          "execution_count": 330
        }
      ]
    },
    {
      "cell_type": "code",
      "metadata": {
        "colab": {
          "base_uri": "https://localhost:8080/",
          "height": 830
        },
        "id": "LtQSfpwstIQg",
        "outputId": "40ad9540-52e4-47fc-b646-c069433d4cf0"
      },
      "source": [
        "data"
      ],
      "execution_count": null,
      "outputs": [
        {
          "output_type": "execute_result",
          "data": {
            "text/html": [
              "<div>\n",
              "<style scoped>\n",
              "    .dataframe tbody tr th:only-of-type {\n",
              "        vertical-align: middle;\n",
              "    }\n",
              "\n",
              "    .dataframe tbody tr th {\n",
              "        vertical-align: top;\n",
              "    }\n",
              "\n",
              "    .dataframe thead th {\n",
              "        text-align: right;\n",
              "    }\n",
              "</style>\n",
              "<table border=\"1\" class=\"dataframe\">\n",
              "  <thead>\n",
              "    <tr style=\"text-align: right;\">\n",
              "      <th></th>\n",
              "      <th>Ship name</th>\n",
              "      <th>Flag</th>\n",
              "      <th>Gross tonnage</th>\n",
              "      <th>Type of ship</th>\n",
              "      <th>Date</th>\n",
              "      <th>Time</th>\n",
              "      <th>Area</th>\n",
              "      <th>Latitude</th>\n",
              "      <th>Longitude</th>\n",
              "      <th>Place</th>\n",
              "      <th>Label</th>\n",
              "      <th>ShortTime</th>\n",
              "      <th>Timestamp</th>\n",
              "    </tr>\n",
              "  </thead>\n",
              "  <tbody>\n",
              "    <tr>\n",
              "      <th>0</th>\n",
              "      <td>Vantage Wave</td>\n",
              "      <td>Liberia</td>\n",
              "      <td>22064.0</td>\n",
              "      <td>General cargo ship</td>\n",
              "      <td>2021-01-28</td>\n",
              "      <td>18:20</td>\n",
              "      <td>Malacca Strait</td>\n",
              "      <td>1° 16.87' N</td>\n",
              "      <td>104° 18.70' E</td>\n",
              "      <td>In international waters</td>\n",
              "      <td>1</td>\n",
              "      <td>9</td>\n",
              "      <td>0.980706</td>\n",
              "    </tr>\n",
              "    <tr>\n",
              "      <th>1</th>\n",
              "      <td>Ark Royal</td>\n",
              "      <td>Barbados</td>\n",
              "      <td>27011.0</td>\n",
              "      <td>Bulk carrier</td>\n",
              "      <td>2021-01-25</td>\n",
              "      <td>03:25</td>\n",
              "      <td>South China Sea</td>\n",
              "      <td>1° 16.58' N</td>\n",
              "      <td>104° 15.70' E</td>\n",
              "      <td>In international waters</td>\n",
              "      <td>1</td>\n",
              "      <td>1</td>\n",
              "      <td>0.980393</td>\n",
              "    </tr>\n",
              "    <tr>\n",
              "      <th>2</th>\n",
              "      <td>Maersk Cardiff</td>\n",
              "      <td>Singapore</td>\n",
              "      <td>50869.0</td>\n",
              "      <td>Container ship</td>\n",
              "      <td>2021-01-13</td>\n",
              "      <td>19:20</td>\n",
              "      <td>West Africa</td>\n",
              "      <td>2° 23.58' N</td>\n",
              "      <td>5° 31.00' E</td>\n",
              "      <td>In international waters</td>\n",
              "      <td>1</td>\n",
              "      <td>9</td>\n",
              "      <td>0.979414</td>\n",
              "    </tr>\n",
              "    <tr>\n",
              "      <th>3</th>\n",
              "      <td>Myrto</td>\n",
              "      <td>Marshall Islands</td>\n",
              "      <td>43012.0</td>\n",
              "      <td>Bulk carrier</td>\n",
              "      <td>2021-01-14</td>\n",
              "      <td>08:49</td>\n",
              "      <td>Arabian Sea</td>\n",
              "      <td>12° 06.10' N</td>\n",
              "      <td>44° 26.50' E</td>\n",
              "      <td>In international waters</td>\n",
              "      <td>1</td>\n",
              "      <td>4</td>\n",
              "      <td>0.979462</td>\n",
              "    </tr>\n",
              "    <tr>\n",
              "      <th>4</th>\n",
              "      <td>SBI Orion</td>\n",
              "      <td>Marshall Islands</td>\n",
              "      <td>36421.0</td>\n",
              "      <td>Bulk carrier</td>\n",
              "      <td>2021-01-03</td>\n",
              "      <td>03:30</td>\n",
              "      <td>South China Sea</td>\n",
              "      <td>0° 15.80' S</td>\n",
              "      <td>117° 34.30' E</td>\n",
              "      <td>In port area</td>\n",
              "      <td>1</td>\n",
              "      <td>1</td>\n",
              "      <td>0.978493</td>\n",
              "    </tr>\n",
              "    <tr>\n",
              "      <th>...</th>\n",
              "      <td>...</td>\n",
              "      <td>...</td>\n",
              "      <td>...</td>\n",
              "      <td>...</td>\n",
              "      <td>...</td>\n",
              "      <td>...</td>\n",
              "      <td>...</td>\n",
              "      <td>...</td>\n",
              "      <td>...</td>\n",
              "      <td>...</td>\n",
              "      <td>...</td>\n",
              "      <td>...</td>\n",
              "      <td>...</td>\n",
              "    </tr>\n",
              "    <tr>\n",
              "      <th>10484</th>\n",
              "      <td>GLORY</td>\n",
              "      <td>Democratic People's Republic of Korea</td>\n",
              "      <td>8842.0</td>\n",
              "      <td>General cargo ship</td>\n",
              "      <td>2006-04-03</td>\n",
              "      <td>08:43</td>\n",
              "      <td>Indian Ocean</td>\n",
              "      <td>30° 06.74' N</td>\n",
              "      <td>47° 55.90' E</td>\n",
              "      <td>In port area</td>\n",
              "      <td>0</td>\n",
              "      <td>4</td>\n",
              "      <td>0.512902</td>\n",
              "    </tr>\n",
              "    <tr>\n",
              "      <th>10485</th>\n",
              "      <td>REGAL STAR</td>\n",
              "      <td>Saint Vincent and the Grenadines</td>\n",
              "      <td>12539.0</td>\n",
              "      <td>Bulk carrier</td>\n",
              "      <td>2006-04-01</td>\n",
              "      <td>20:08</td>\n",
              "      <td>East Africa</td>\n",
              "      <td>13° 32.70' N</td>\n",
              "      <td>49° 32.80' E</td>\n",
              "      <td>In international waters</td>\n",
              "      <td>0</td>\n",
              "      <td>10</td>\n",
              "      <td>0.512770</td>\n",
              "    </tr>\n",
              "    <tr>\n",
              "      <th>10486</th>\n",
              "      <td>HANDY RAINBOW</td>\n",
              "      <td>Hong Kong, China</td>\n",
              "      <td>13881.0</td>\n",
              "      <td>Bulk carrier</td>\n",
              "      <td>2003-02-13</td>\n",
              "      <td>02:08</td>\n",
              "      <td>South China Sea</td>\n",
              "      <td>3° 20.00' N</td>\n",
              "      <td>111° 25.00' E</td>\n",
              "      <td>In territorial waters</td>\n",
              "      <td>0</td>\n",
              "      <td>1</td>\n",
              "      <td>0.413950</td>\n",
              "    </tr>\n",
              "    <tr>\n",
              "      <th>10487</th>\n",
              "      <td>SHA HE KOU</td>\n",
              "      <td>China</td>\n",
              "      <td>10941.0</td>\n",
              "      <td>General cargo ship</td>\n",
              "      <td>2001-11-06</td>\n",
              "      <td>16:56</td>\n",
              "      <td>South China Sea</td>\n",
              "      <td>11° 31.00' N</td>\n",
              "      <td>110° 42.00' E</td>\n",
              "      <td>In territorial waters</td>\n",
              "      <td>0</td>\n",
              "      <td>8</td>\n",
              "      <td>0.373914</td>\n",
              "    </tr>\n",
              "    <tr>\n",
              "      <th>10488</th>\n",
              "      <td>BUNGA MELOR SATU</td>\n",
              "      <td>Malaysia</td>\n",
              "      <td>24550.0</td>\n",
              "      <td>Bulk carrier</td>\n",
              "      <td>2001-10-25</td>\n",
              "      <td>06:08</td>\n",
              "      <td>South China Sea</td>\n",
              "      <td>6° 04.00' N</td>\n",
              "      <td>126° 12.40' E</td>\n",
              "      <td>In territorial waters</td>\n",
              "      <td>0</td>\n",
              "      <td>3</td>\n",
              "      <td>0.372838</td>\n",
              "    </tr>\n",
              "  </tbody>\n",
              "</table>\n",
              "<p>10489 rows × 13 columns</p>\n",
              "</div>"
            ],
            "text/plain": [
              "              Ship name  ... Timestamp\n",
              "0          Vantage Wave  ...  0.980706\n",
              "1             Ark Royal  ...  0.980393\n",
              "2        Maersk Cardiff  ...  0.979414\n",
              "3                 Myrto  ...  0.979462\n",
              "4             SBI Orion  ...  0.978493\n",
              "...                 ...  ...       ...\n",
              "10484             GLORY  ...  0.512902\n",
              "10485        REGAL STAR  ...  0.512770\n",
              "10486     HANDY RAINBOW  ...  0.413950\n",
              "10487        SHA HE KOU  ...  0.373914\n",
              "10488  BUNGA MELOR SATU  ...  0.372838\n",
              "\n",
              "[10489 rows x 13 columns]"
            ]
          },
          "metadata": {
            "tags": []
          },
          "execution_count": 331
        }
      ]
    },
    {
      "cell_type": "code",
      "metadata": {
        "colab": {
          "base_uri": "https://localhost:8080/"
        },
        "id": "fbbjgBrtvGDu",
        "outputId": "4620ce59-8d5a-4349-9c88-7b17ccfa9f26"
      },
      "source": [
        "sample = data.loc[0,:].to_dict()\n",
        "sample"
      ],
      "execution_count": null,
      "outputs": [
        {
          "output_type": "execute_result",
          "data": {
            "text/plain": [
              "{'Area': 'Malacca Strait',\n",
              " 'Date': '2021-01-28',\n",
              " 'Flag': 'Liberia',\n",
              " 'Gross tonnage': 22064.0,\n",
              " 'Label': 1,\n",
              " 'Latitude': \"1° 16.87' N\",\n",
              " 'Longitude': \"104° 18.70' E\",\n",
              " 'Place': 'In international waters',\n",
              " 'Ship name': 'Vantage Wave',\n",
              " 'ShortTime': 9,\n",
              " 'Time': '18:20',\n",
              " 'Timestamp': 0.980706,\n",
              " 'Type of ship': 'General cargo ship'}"
            ]
          },
          "metadata": {
            "tags": []
          },
          "execution_count": 332
        }
      ]
    },
    {
      "cell_type": "code",
      "metadata": {
        "colab": {
          "base_uri": "https://localhost:8080/"
        },
        "id": "u_LaviRawM6z",
        "outputId": "9a22c5ca-ab91-446b-fe52-2b5828b418d4"
      },
      "source": [
        "encoders_path = '/content/drive/MyDrive/Shared/encoders.pickle'\n",
        "model_path = '/content/drive/MyDrive/Shared/risk_assessment_model.pickle'\n",
        "\n",
        "encoders = pickle.load(open(encoders_path, 'rb'))\n",
        "model = pickle.load(open(model_path, 'rb'))\n",
        "\n",
        "def get_timestamp(x):\n",
        "    element = datetime.datetime.strptime(x,\"%Y-%m-%d %H:%M\")\n",
        "    a = time.mktime(element.timetuple())\n",
        "    element = datetime.datetime.strptime(\"1990-01-01\",\"%Y-%m-%d\") \n",
        "    b = time.mktime(element.timetuple())\n",
        "    return (a - b)/ 1e9\n",
        "\n",
        "def extract_sample_features(encoders, sample):\n",
        "    sample['Timestamp'] = get_timestamp(sample['Date'] + ' ' + sample['Time'])\n",
        "    df = pd.DataFrame([sample])\n",
        "    df['ShortTime'] = df['Time'].apply(lambda x: int(x.split(':')[0])//2)\n",
        "    cat_cols = ['Flag', 'Type of ship', 'Area', 'Place', 'ShortTime']\n",
        "    Xs = []\n",
        "    X = encoders.transform(df[cat_cols]).toarray()\n",
        "    Xs.append(X)\n",
        "\n",
        "    X_gross = sample['Gross tonnage'] / 10000\n",
        "    X_gross = np.array(X_gross).reshape(1, 1)\n",
        "    Xs.append(X_gross)\n",
        "\n",
        "    Xs.append(df['Timestamp'].to_numpy().reshape(df['Timestamp'].shape[0], 1))\n",
        "\n",
        "    return np.hstack(Xs)\n",
        "\n",
        "model.predict_proba(extract_sample_features(encoders, sample))"
      ],
      "execution_count": null,
      "outputs": [
        {
          "output_type": "execute_result",
          "data": {
            "text/plain": [
              "array([[0.29824376, 0.70175624]])"
            ]
          },
          "metadata": {
            "tags": []
          },
          "execution_count": 333
        }
      ]
    },
    {
      "cell_type": "code",
      "metadata": {
        "id": "aLOg1phyad6D"
      },
      "source": [
        ""
      ],
      "execution_count": null,
      "outputs": []
    }
  ]
}